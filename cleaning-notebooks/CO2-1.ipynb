{
 "cells": [
  {
   "cell_type": "code",
   "execution_count": null,
   "metadata": {},
   "outputs": [],
   "source": []
  },
  {
   "cell_type": "markdown",
   "metadata": {},
   "source": [
    "# Import Required Libraries\n",
    "Import pandas and other necessary libraries for data manipulation and file handling."
   ]
  },
  {
   "cell_type": "code",
   "execution_count": 1,
   "metadata": {},
   "outputs": [],
   "source": [
    "# Importing necessary libraries\n",
    "import pandas as pd  # For data manipulation and analysis\n",
    "import os  # For file handling\n",
    "import numpy as np  # For numerical operations\n",
    "import matplotlib.pyplot as plt"
   ]
  },
  {
   "cell_type": "markdown",
   "metadata": {},
   "source": [
    "# Read the CSV File\n",
    "Use pandas to read the CO2_1_raw.csv file into a DataFrame."
   ]
  },
  {
   "cell_type": "code",
   "execution_count": 5,
   "metadata": {},
   "outputs": [
    {
     "data": {
      "text/html": [
       "<div>\n",
       "<style scoped>\n",
       "    .dataframe tbody tr th:only-of-type {\n",
       "        vertical-align: middle;\n",
       "    }\n",
       "\n",
       "    .dataframe tbody tr th {\n",
       "        vertical-align: top;\n",
       "    }\n",
       "\n",
       "    .dataframe thead th {\n",
       "        text-align: right;\n",
       "    }\n",
       "</style>\n",
       "<table border=\"1\" class=\"dataframe\">\n",
       "  <thead>\n",
       "    <tr style=\"text-align: right;\">\n",
       "      <th></th>\n",
       "      <th>Year</th>\n",
       "      <th>Country</th>\n",
       "      <th>Avg Temperature (°C)</th>\n",
       "      <th>CO2 Emissions (Tons/Capita)</th>\n",
       "      <th>Sea Level Rise (mm)</th>\n",
       "      <th>Rainfall (mm)</th>\n",
       "      <th>Population</th>\n",
       "      <th>Renewable Energy (%)</th>\n",
       "      <th>Extreme Weather Events</th>\n",
       "      <th>Forest Area (%)</th>\n",
       "    </tr>\n",
       "  </thead>\n",
       "  <tbody>\n",
       "    <tr>\n",
       "      <th>0</th>\n",
       "      <td>2006</td>\n",
       "      <td>UK</td>\n",
       "      <td>8.9</td>\n",
       "      <td>9.3</td>\n",
       "      <td>3.1</td>\n",
       "      <td>1441</td>\n",
       "      <td>530911230</td>\n",
       "      <td>20.4</td>\n",
       "      <td>14</td>\n",
       "      <td>59.8</td>\n",
       "    </tr>\n",
       "    <tr>\n",
       "      <th>1</th>\n",
       "      <td>2019</td>\n",
       "      <td>USA</td>\n",
       "      <td>31.0</td>\n",
       "      <td>4.8</td>\n",
       "      <td>4.2</td>\n",
       "      <td>2407</td>\n",
       "      <td>107364344</td>\n",
       "      <td>49.2</td>\n",
       "      <td>8</td>\n",
       "      <td>31.0</td>\n",
       "    </tr>\n",
       "    <tr>\n",
       "      <th>2</th>\n",
       "      <td>2014</td>\n",
       "      <td>France</td>\n",
       "      <td>33.9</td>\n",
       "      <td>2.8</td>\n",
       "      <td>2.2</td>\n",
       "      <td>1241</td>\n",
       "      <td>441101758</td>\n",
       "      <td>33.3</td>\n",
       "      <td>9</td>\n",
       "      <td>35.5</td>\n",
       "    </tr>\n",
       "    <tr>\n",
       "      <th>3</th>\n",
       "      <td>2010</td>\n",
       "      <td>Argentina</td>\n",
       "      <td>5.9</td>\n",
       "      <td>1.8</td>\n",
       "      <td>3.2</td>\n",
       "      <td>1892</td>\n",
       "      <td>1069669579</td>\n",
       "      <td>23.7</td>\n",
       "      <td>7</td>\n",
       "      <td>17.7</td>\n",
       "    </tr>\n",
       "    <tr>\n",
       "      <th>4</th>\n",
       "      <td>2007</td>\n",
       "      <td>Germany</td>\n",
       "      <td>26.9</td>\n",
       "      <td>5.6</td>\n",
       "      <td>2.4</td>\n",
       "      <td>1743</td>\n",
       "      <td>124079175</td>\n",
       "      <td>12.5</td>\n",
       "      <td>4</td>\n",
       "      <td>17.4</td>\n",
       "    </tr>\n",
       "  </tbody>\n",
       "</table>\n",
       "</div>"
      ],
      "text/plain": [
       "   Year    Country  Avg Temperature (°C)  CO2 Emissions (Tons/Capita)  \\\n",
       "0  2006         UK                   8.9                          9.3   \n",
       "1  2019        USA                  31.0                          4.8   \n",
       "2  2014     France                  33.9                          2.8   \n",
       "3  2010  Argentina                   5.9                          1.8   \n",
       "4  2007    Germany                  26.9                          5.6   \n",
       "\n",
       "   Sea Level Rise (mm)  Rainfall (mm)  Population  Renewable Energy (%)  \\\n",
       "0                  3.1           1441   530911230                  20.4   \n",
       "1                  4.2           2407   107364344                  49.2   \n",
       "2                  2.2           1241   441101758                  33.3   \n",
       "3                  3.2           1892  1069669579                  23.7   \n",
       "4                  2.4           1743   124079175                  12.5   \n",
       "\n",
       "   Extreme Weather Events  Forest Area (%)  \n",
       "0                      14             59.8  \n",
       "1                       8             31.0  \n",
       "2                       9             35.5  \n",
       "3                       7             17.7  \n",
       "4                       4             17.4  "
      ]
     },
     "execution_count": 5,
     "metadata": {},
     "output_type": "execute_result"
    }
   ],
   "source": [
    "# Read the CSV File\n",
    "data_path = \"/Users/laurenfeldman/COMP 562/ML-Climate-Project/raw-data/CO2_1_raw.csv\"\n",
    "df = pd.read_csv(data_path)\n",
    "df.head()\n",
    "  # Display the first few rows of the DataFrame to verify the data is loaded correctly"
   ]
  },
  {
   "cell_type": "code",
   "execution_count": null,
   "metadata": {},
   "outputs": [],
   "source": [
    "num_countries = df['Country'].nunique()\n",
    "print(f\"Number of unique countries: {num_countries}\")"
   ]
  },
  {
   "cell_type": "markdown",
   "metadata": {},
   "source": [
    "# Process Data to Calculate Averages and Aggregates\n",
    "Group the data by year, calculate the average global temperature and the aggregate CO2 emissions for each year."
   ]
  },
  {
   "cell_type": "code",
   "execution_count": 81,
   "metadata": {},
   "outputs": [
    {
     "data": {
      "text/plain": [
       "<matplotlib.collections.PathCollection at 0x1f20c5dddf0>"
      ]
     },
     "execution_count": 81,
     "metadata": {},
     "output_type": "execute_result"
    },
    {
     "data": {
      "image/png": "[encoded data removed]",
      "text/plain": [
       "<Figure size 640x480 with 1 Axes>"
      ]
     },
     "metadata": {},
     "output_type": "display_data"
    }
   ],
   "source": [
    "processed_data = data[data['Country'] == 'Argentina'][['Year', 'Country', 'Avg Temperature (°C)', 'CO2 Emissions (Tons/Capita)']]\n",
    "#add CO2 values for each year and average temperature for each year\n",
    "processed_data = processed_data.groupby('Year').agg(\n",
    "    Avg_Temperature=('Avg Temperature (°C)', 'mean'),  # Calculate average temperature\n",
    "    Total_CO2_Emissions=('CO2 Emissions (Tons/Capita)', 'sum')  # Calculate total CO2 emissions\n",
    ").reset_index()\n",
    "#order data by year\n",
    "processed_data = processed_data.sort_values(by='Year')\n",
    "# Save the processed data to a new CSV file\n",
    "output_file_path = os.path.join(\"c:/Users/marth/MLProject/ML-Climate-Project/clean-data\", \"processed_CO2_data_Argentina.csv\")\n",
    "processed_data.to_csv(output_file_path, index=False)  # Write the processed data to a CSV file\n",
    "\n",
    "# plt.scatter(processed_data['Year'], processed_data['Avg_Temperature'])\n",
    "# plt.scatter(processed_data['Year'], processed_data['Total_CO2_Emissions'])\n",
    "plt.scatter(processed_data['Total_CO2_Emissions'], processed_data['Avg_Temperature'])"
   ]
  },
  {
   "cell_type": "markdown",
   "metadata": {},
   "source": [
    "# Save Processed Data to a New CSV File\n",
    "Save the processed DataFrame with the calculated columns to a new CSV file."
   ]
  },
  {
   "cell_type": "code",
   "execution_count": 52,
   "metadata": {},
   "outputs": [
    {
     "data": {
      "text/html": [
       "<div>\n",
       "<style scoped>\n",
       "    .dataframe tbody tr th:only-of-type {\n",
       "        vertical-align: middle;\n",
       "    }\n",
       "\n",
       "    .dataframe tbody tr th {\n",
       "        vertical-align: top;\n",
       "    }\n",
       "\n",
       "    .dataframe thead th {\n",
       "        text-align: right;\n",
       "    }\n",
       "</style>\n",
       "<table border=\"1\" class=\"dataframe\">\n",
       "  <thead>\n",
       "    <tr style=\"text-align: right;\">\n",
       "      <th></th>\n",
       "      <th>Year</th>\n",
       "      <th>Avg_Temperature</th>\n",
       "      <th>Total_CO2_Emissions</th>\n",
       "    </tr>\n",
       "  </thead>\n",
       "  <tbody>\n",
       "    <tr>\n",
       "      <th>0</th>\n",
       "      <td>2000</td>\n",
       "      <td>23.1875</td>\n",
       "      <td>87.9</td>\n",
       "    </tr>\n",
       "    <tr>\n",
       "      <th>1</th>\n",
       "      <td>2001</td>\n",
       "      <td>16.1500</td>\n",
       "      <td>53.0</td>\n",
       "    </tr>\n",
       "    <tr>\n",
       "      <th>2</th>\n",
       "      <td>2002</td>\n",
       "      <td>19.8000</td>\n",
       "      <td>31.7</td>\n",
       "    </tr>\n",
       "    <tr>\n",
       "      <th>3</th>\n",
       "      <td>2003</td>\n",
       "      <td>9.0000</td>\n",
       "      <td>19.0</td>\n",
       "    </tr>\n",
       "    <tr>\n",
       "      <th>4</th>\n",
       "      <td>2004</td>\n",
       "      <td>15.4000</td>\n",
       "      <td>23.9</td>\n",
       "    </tr>\n",
       "  </tbody>\n",
       "</table>\n",
       "</div>"
      ],
      "text/plain": [
       "   Year  Avg_Temperature  Total_CO2_Emissions\n",
       "0  2000          23.1875                 87.9\n",
       "1  2001          16.1500                 53.0\n",
       "2  2002          19.8000                 31.7\n",
       "3  2003           9.0000                 19.0\n",
       "4  2004          15.4000                 23.9"
      ]
     },
     "execution_count": 52,
     "metadata": {},
     "output_type": "execute_result"
    }
   ],
   "source": [
    "# Save Processed Data to a New CSV File\n",
    "output_file_path = os.path.join(\"c:/Users/marth/MLProject/ML-Climate-Project/clean-data\", \"processed_CO2_data_UK.csv\")\n",
    "processed_data.to_csv(output_file_path, index=False)  # Write the processed data to a CSV file\n",
    "\n",
    "# Display the processed data to verify the results\n",
    "processed_data.head()  # Display the first few rows of the processed DataFrame"
   ]
  },
  {
   "cell_type": "code",
   "execution_count": null,
   "metadata": {},
   "outputs": [],
   "source": []
  }
 ],
 "metadata": {
  "kernelspec": {
   "display_name": "base",
   "language": "python",
   "name": "python3"
  },
  "language_info": {
   "codemirror_mode": {
    "name": "ipython",
    "version": 3
   },
   "file_extension": ".py",
   "mimetype": "text/x-python",
   "name": "python",
   "nbconvert_exporter": "python",
   "pygments_lexer": "ipython3",
   "version": "3.10.9"
  }
 },
 "nbformat": 4,
 "nbformat_minor": 2
}
