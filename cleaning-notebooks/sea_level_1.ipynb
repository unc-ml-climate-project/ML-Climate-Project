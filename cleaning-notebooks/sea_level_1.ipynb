{
 "cells": [
  {
   "cell_type": "markdown",
   "metadata": {},
   "source": [
    "# Import Required Libraries and Modules\n",
    "* **pandas**: used for data manipulation  \n",
    "* **DataCleaner**: contains some helpful methods for data manipulation\n",
    "* **sys**: used for system-specific parameters\n",
    "* **os**: used for accessing file system paths\n"
   ]
  },
  {
   "cell_type": "code",
   "execution_count": 69,
   "metadata": {},
   "outputs": [],
   "source": [
    "import sys\n",
    "import os\n",
    "\n",
    "project_root = \"/Users/tyler/ML-Climate-Project\"\n",
    "sys.path.append(os.path.abspath(project_root))\n",
    "\n",
    "import pandas as pd\n",
    "from data_cleaning.data_cleaner import DataCleaner"
   ]
  },
  {
   "cell_type": "markdown",
   "metadata": {},
   "source": [
    "# Instantiate an instance of DataCleaner\n",
    "This reads the data into a pandas data frame."
   ]
  },
  {
   "cell_type": "code",
   "execution_count": 70,
   "metadata": {},
   "outputs": [
    {
     "data": {
      "text/html": [
       "<div>\n",
       "<style scoped>\n",
       "    .dataframe tbody tr th:only-of-type {\n",
       "        vertical-align: middle;\n",
       "    }\n",
       "\n",
       "    .dataframe tbody tr th {\n",
       "        vertical-align: top;\n",
       "    }\n",
       "\n",
       "    .dataframe thead th {\n",
       "        text-align: right;\n",
       "    }\n",
       "</style>\n",
       "<table border=\"1\" class=\"dataframe\">\n",
       "  <thead>\n",
       "    <tr style=\"text-align: right;\">\n",
       "      <th></th>\n",
       "      <th>Year</th>\n",
       "      <th>Country</th>\n",
       "      <th>Avg Temperature (°C)</th>\n",
       "      <th>CO2 Emissions (Tons/Capita)</th>\n",
       "      <th>Sea Level Rise (mm)</th>\n",
       "      <th>Rainfall (mm)</th>\n",
       "      <th>Population</th>\n",
       "      <th>Renewable Energy (%)</th>\n",
       "      <th>Extreme Weather Events</th>\n",
       "      <th>Forest Area (%)</th>\n",
       "    </tr>\n",
       "  </thead>\n",
       "  <tbody>\n",
       "    <tr>\n",
       "      <th>0</th>\n",
       "      <td>2006</td>\n",
       "      <td>UK</td>\n",
       "      <td>8.9</td>\n",
       "      <td>9.3</td>\n",
       "      <td>3.1</td>\n",
       "      <td>1441</td>\n",
       "      <td>530911230</td>\n",
       "      <td>20.4</td>\n",
       "      <td>14</td>\n",
       "      <td>59.8</td>\n",
       "    </tr>\n",
       "    <tr>\n",
       "      <th>1</th>\n",
       "      <td>2019</td>\n",
       "      <td>USA</td>\n",
       "      <td>31.0</td>\n",
       "      <td>4.8</td>\n",
       "      <td>4.2</td>\n",
       "      <td>2407</td>\n",
       "      <td>107364344</td>\n",
       "      <td>49.2</td>\n",
       "      <td>8</td>\n",
       "      <td>31.0</td>\n",
       "    </tr>\n",
       "    <tr>\n",
       "      <th>2</th>\n",
       "      <td>2014</td>\n",
       "      <td>France</td>\n",
       "      <td>33.9</td>\n",
       "      <td>2.8</td>\n",
       "      <td>2.2</td>\n",
       "      <td>1241</td>\n",
       "      <td>441101758</td>\n",
       "      <td>33.3</td>\n",
       "      <td>9</td>\n",
       "      <td>35.5</td>\n",
       "    </tr>\n",
       "    <tr>\n",
       "      <th>3</th>\n",
       "      <td>2010</td>\n",
       "      <td>Argentina</td>\n",
       "      <td>5.9</td>\n",
       "      <td>1.8</td>\n",
       "      <td>3.2</td>\n",
       "      <td>1892</td>\n",
       "      <td>1069669579</td>\n",
       "      <td>23.7</td>\n",
       "      <td>7</td>\n",
       "      <td>17.7</td>\n",
       "    </tr>\n",
       "    <tr>\n",
       "      <th>4</th>\n",
       "      <td>2007</td>\n",
       "      <td>Germany</td>\n",
       "      <td>26.9</td>\n",
       "      <td>5.6</td>\n",
       "      <td>2.4</td>\n",
       "      <td>1743</td>\n",
       "      <td>124079175</td>\n",
       "      <td>12.5</td>\n",
       "      <td>4</td>\n",
       "      <td>17.4</td>\n",
       "    </tr>\n",
       "    <tr>\n",
       "      <th>5</th>\n",
       "      <td>2020</td>\n",
       "      <td>China</td>\n",
       "      <td>32.3</td>\n",
       "      <td>1.4</td>\n",
       "      <td>2.7</td>\n",
       "      <td>2100</td>\n",
       "      <td>1202028857</td>\n",
       "      <td>49.4</td>\n",
       "      <td>12</td>\n",
       "      <td>47.2</td>\n",
       "    </tr>\n",
       "    <tr>\n",
       "      <th>6</th>\n",
       "      <td>2006</td>\n",
       "      <td>Argentina</td>\n",
       "      <td>30.7</td>\n",
       "      <td>11.6</td>\n",
       "      <td>3.9</td>\n",
       "      <td>1755</td>\n",
       "      <td>586706107</td>\n",
       "      <td>41.9</td>\n",
       "      <td>10</td>\n",
       "      <td>50.5</td>\n",
       "    </tr>\n",
       "    <tr>\n",
       "      <th>7</th>\n",
       "      <td>2018</td>\n",
       "      <td>South Africa</td>\n",
       "      <td>33.9</td>\n",
       "      <td>6.0</td>\n",
       "      <td>4.5</td>\n",
       "      <td>827</td>\n",
       "      <td>83947380</td>\n",
       "      <td>17.7</td>\n",
       "      <td>1</td>\n",
       "      <td>56.6</td>\n",
       "    </tr>\n",
       "    <tr>\n",
       "      <th>8</th>\n",
       "      <td>2022</td>\n",
       "      <td>UK</td>\n",
       "      <td>27.8</td>\n",
       "      <td>16.6</td>\n",
       "      <td>1.5</td>\n",
       "      <td>1966</td>\n",
       "      <td>980305187</td>\n",
       "      <td>8.2</td>\n",
       "      <td>4</td>\n",
       "      <td>43.4</td>\n",
       "    </tr>\n",
       "    <tr>\n",
       "      <th>9</th>\n",
       "      <td>2010</td>\n",
       "      <td>Australia</td>\n",
       "      <td>18.3</td>\n",
       "      <td>1.9</td>\n",
       "      <td>3.5</td>\n",
       "      <td>2599</td>\n",
       "      <td>849496137</td>\n",
       "      <td>7.5</td>\n",
       "      <td>5</td>\n",
       "      <td>48.7</td>\n",
       "    </tr>\n",
       "  </tbody>\n",
       "</table>\n",
       "</div>"
      ],
      "text/plain": [
       "   Year       Country  Avg Temperature (°C)  CO2 Emissions (Tons/Capita)  \\\n",
       "0  2006            UK                   8.9                          9.3   \n",
       "1  2019           USA                  31.0                          4.8   \n",
       "2  2014        France                  33.9                          2.8   \n",
       "3  2010     Argentina                   5.9                          1.8   \n",
       "4  2007       Germany                  26.9                          5.6   \n",
       "5  2020         China                  32.3                          1.4   \n",
       "6  2006     Argentina                  30.7                         11.6   \n",
       "7  2018  South Africa                  33.9                          6.0   \n",
       "8  2022            UK                  27.8                         16.6   \n",
       "9  2010     Australia                  18.3                          1.9   \n",
       "\n",
       "   Sea Level Rise (mm)  Rainfall (mm)  Population  Renewable Energy (%)  \\\n",
       "0                  3.1           1441   530911230                  20.4   \n",
       "1                  4.2           2407   107364344                  49.2   \n",
       "2                  2.2           1241   441101758                  33.3   \n",
       "3                  3.2           1892  1069669579                  23.7   \n",
       "4                  2.4           1743   124079175                  12.5   \n",
       "5                  2.7           2100  1202028857                  49.4   \n",
       "6                  3.9           1755   586706107                  41.9   \n",
       "7                  4.5            827    83947380                  17.7   \n",
       "8                  1.5           1966   980305187                   8.2   \n",
       "9                  3.5           2599   849496137                   7.5   \n",
       "\n",
       "   Extreme Weather Events  Forest Area (%)  \n",
       "0                      14             59.8  \n",
       "1                       8             31.0  \n",
       "2                       9             35.5  \n",
       "3                       7             17.7  \n",
       "4                       4             17.4  \n",
       "5                      12             47.2  \n",
       "6                      10             50.5  \n",
       "7                       1             56.6  \n",
       "8                       4             43.4  \n",
       "9                       5             48.7  "
      ]
     },
     "execution_count": 70,
     "metadata": {},
     "output_type": "execute_result"
    }
   ],
   "source": [
    "dc: DataCleaner = DataCleaner(project_root + '/raw-data/Sea_level_1_raw.csv')\n",
    "dc.preview(10)"
   ]
  },
  {
   "cell_type": "markdown",
   "metadata": {},
   "source": [
    "# Check for missing values"
   ]
  },
  {
   "cell_type": "code",
   "execution_count": 71,
   "metadata": {},
   "outputs": [
    {
     "data": {
      "text/plain": [
       "Year                           0\n",
       "Country                        0\n",
       "Avg Temperature (°C)           0\n",
       "CO2 Emissions (Tons/Capita)    0\n",
       "Sea Level Rise (mm)            0\n",
       "Rainfall (mm)                  0\n",
       "Population                     0\n",
       "Renewable Energy (%)           0\n",
       "Extreme Weather Events         0\n",
       "Forest Area (%)                0\n",
       "dtype: int64"
      ]
     },
     "execution_count": 71,
     "metadata": {},
     "output_type": "execute_result"
    }
   ],
   "source": [
    "dc.df.isnull().sum()"
   ]
  },
  {
   "cell_type": "markdown",
   "metadata": {},
   "source": [
    "# Keep only relevant columns"
   ]
  },
  {
   "cell_type": "code",
   "execution_count": 72,
   "metadata": {},
   "outputs": [
    {
     "ename": "AttributeError",
     "evalue": "'DataCleaner' object has no attribute 'sort_column'",
     "output_type": "error",
     "traceback": [
      "\u001b[0;31m---------------------------------------------------------------------------\u001b[0m",
      "\u001b[0;31mAttributeError\u001b[0m                            Traceback (most recent call last)",
      "Cell \u001b[0;32mIn[72], line 3\u001b[0m\n\u001b[1;32m      1\u001b[0m columns_to_drop \u001b[38;5;241m=\u001b[39m [\u001b[38;5;124m'\u001b[39m\u001b[38;5;124mCO2 Emissions (Tons/Capita)\u001b[39m\u001b[38;5;124m'\u001b[39m, \u001b[38;5;124m'\u001b[39m\u001b[38;5;124mPopulation\u001b[39m\u001b[38;5;124m'\u001b[39m, \u001b[38;5;124m'\u001b[39m\u001b[38;5;124mRenewable Energy (\u001b[39m\u001b[38;5;124m%\u001b[39m\u001b[38;5;124m)\u001b[39m\u001b[38;5;124m'\u001b[39m, \u001b[38;5;124m'\u001b[39m\u001b[38;5;124mExtreme Weather Events\u001b[39m\u001b[38;5;124m'\u001b[39m, \u001b[38;5;124m'\u001b[39m\u001b[38;5;124mForest Area (\u001b[39m\u001b[38;5;124m%\u001b[39m\u001b[38;5;124m)\u001b[39m\u001b[38;5;124m'\u001b[39m]\n\u001b[1;32m      2\u001b[0m dc\u001b[38;5;241m.\u001b[39mdrop(columns_to_drop)\n\u001b[0;32m----> 3\u001b[0m \u001b[43mdc\u001b[49m\u001b[38;5;241;43m.\u001b[39;49m\u001b[43msort_column\u001b[49m(\u001b[38;5;124m'\u001b[39m\u001b[38;5;124mYear\u001b[39m\u001b[38;5;124m'\u001b[39m, \u001b[38;5;28;01mTrue\u001b[39;00m)\n\u001b[1;32m      4\u001b[0m dc\u001b[38;5;241m.\u001b[39mpreview(n\u001b[38;5;241m=\u001b[39m\u001b[38;5;241m100\u001b[39m)\n",
      "\u001b[0;31mAttributeError\u001b[0m: 'DataCleaner' object has no attribute 'sort_column'"
     ]
    }
   ],
   "source": [
    "columns_to_drop = ['CO2 Emissions (Tons/Capita)', 'Population', 'Renewable Energy (%)', 'Extreme Weather Events', 'Forest Area (%)']\n",
    "dc.drop(columns_to_drop)\n",
    "dc.sort_column('Year', True)\n",
    "dc.preview(n=100)"
   ]
  }
 ],
 "metadata": {
  "kernelspec": {
   "display_name": "Python 3",
   "language": "python",
   "name": "python3"
  },
  "language_info": {
   "codemirror_mode": {
    "name": "ipython",
    "version": 3
   },
   "file_extension": ".py",
   "mimetype": "text/x-python",
   "name": "python",
   "nbconvert_exporter": "python",
   "pygments_lexer": "ipython3",
   "version": "3.12.4"
  }
 },
 "nbformat": 4,
 "nbformat_minor": 2
}
