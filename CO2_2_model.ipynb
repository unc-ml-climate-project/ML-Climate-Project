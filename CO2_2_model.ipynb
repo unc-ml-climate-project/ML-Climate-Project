{
 "cells": [
  {
   "cell_type": "code",
   "execution_count": 8,
   "metadata": {},
   "outputs": [],
   "source": [
    "import tensorflow as tf\n",
    "import numpy as np\n",
    "import pandas as pd\n",
    "import matplotlib.pyplot as plt\n",
    "from sklearn.model_selection import train_test_split\n"
   ]
  },
  {
   "cell_type": "code",
   "execution_count": 12,
   "metadata": {},
   "outputs": [],
   "source": [
    "# Extract data\n",
    "data_path = \"/Users/laurenfeldman/COMP 562/ML-Climate-Project/raw-data/CO2_2_raw.csv\"\n",
    "data = pd.read_csv(data_path)\n",
    "\n",
    "X_raw = data['CO2 Emissions'].values.reshape(-1, 1)  \n",
    "Y_raw = data['Temperature'].values.reshape(-1, 1)\n",
    "\n",
    "X_train, X_test, Y_train, Y_test = train_test_split(X_raw, Y_raw, test_size=0.2, random_state=42)\n",
    "\n",
    "X = X_train\n",
    "X = tf.convert_to_tensor(X, dtype=tf.float32)\n",
    "Y = Y_train\n",
    "Y = tf.convert_to_tensor(Y, dtype=tf.float32)\n",
    "\n",
    "\n"
   ]
  },
  {
   "cell_type": "code",
   "execution_count": null,
   "metadata": {},
   "outputs": [],
   "source": [
    "# Generate some data\n",
    "d = 1\n",
    "N = 2000\n",
    "\n",
    "\n",
    "def f(x):\n",
    "  return tf.exp(0.5*x)+2.0*x*tf.sin(4.0*x)\n",
    "\n",
    "sigma = 0.5\n",
    "Y = f(X) + sigma*tf.random.normal((N,1))"
   ]
  }
 ],
 "metadata": {
  "kernelspec": {
   "display_name": "base",
   "language": "python",
   "name": "python3"
  },
  "language_info": {
   "codemirror_mode": {
    "name": "ipython",
    "version": 3
   },
   "file_extension": ".py",
   "mimetype": "text/x-python",
   "name": "python",
   "nbconvert_exporter": "python",
   "pygments_lexer": "ipython3",
   "version": "3.10.9"
  }
 },
 "nbformat": 4,
 "nbformat_minor": 2
}
